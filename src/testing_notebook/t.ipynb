{
 "cells": [
  {
   "cell_type": "code",
   "execution_count": null,
   "id": "39c0da3f",
   "metadata": {
    "vscode": {
     "languageId": "plaintext"
    }
   },
   "outputs": [],
   "source": [
    "import pandas as pd"
   ]
  },
  {
   "cell_type": "code",
   "execution_count": null,
   "id": "08204f8a",
   "metadata": {
    "vscode": {
     "languageId": "plaintext"
    }
   },
   "outputs": [],
   "source": [
    "df=pd.read_excel(r\"C:\\Users\\dell\\Desktop\\macine_operation\\Tele_MLOPs\\src\\Data\\Banking_Call_Data.xlsx\")"
   ]
  },
  {
   "cell_type": "code",
   "execution_count": null,
   "id": "c50bd03f",
   "metadata": {
    "vscode": {
     "languageId": "plaintext"
    }
   },
   "outputs": [],
   "source": [
    "df.to_csv(r\"C:\\Users\\dell\\Desktop\\macine_operation\\Tele_MLOPs\\Data_kind_stack\\main_data\\raw_data.csv\",index=False)"
   ]
  },
  {
   "cell_type": "code",
   "execution_count": null,
   "id": "7bc51c4b",
   "metadata": {
    "vscode": {
     "languageId": "plaintext"
    }
   },
   "outputs": [],
   "source": [
    "df.head()"
   ]
  },
  {
   "cell_type": "code",
   "execution_count": null,
   "id": "d28a2e5a",
   "metadata": {
    "vscode": {
     "languageId": "plaintext"
    }
   },
   "outputs": [],
   "source": [
    "for i in df.columns:\n",
    "    print(i)\n",
    "    print()\n",
    "    print(df[i].unique())\n",
    "    print()"
   ]
  },
  {
   "cell_type": "code",
   "execution_count": null,
   "id": "73d1a357",
   "metadata": {
    "vscode": {
     "languageId": "plaintext"
    }
   },
   "outputs": [],
   "source": [
    "encoders={}\n",
    "from sklearn.preprocessing import LabelEncoder\n",
    "\n",
    "for i in [\"job\",\"marital\",\"education\",\"default\",\"housing\",\"loan\",\"contact\",\"month\",\"poutcome\",\"y\"]:\n",
    "    le=LabelEncoder()\n",
    "    df[i]=le.fit_transform(df[i])\n",
    "    encoders[i]=le"
   ]
  },
  {
   "cell_type": "code",
   "execution_count": null,
   "id": "2b7f3442",
   "metadata": {
    "vscode": {
     "languageId": "plaintext"
    }
   },
   "outputs": [],
   "source": [
    "for col, encoder in encoders.items():\n",
    "    mapping = dict(zip(encoder.classes_, encoder.transform(encoder.classes_)))\n",
    "    print(f\"Mapping for {col}: {mapping}\")"
   ]
  },
  {
   "cell_type": "code",
   "execution_count": null,
   "id": "efcf7a57",
   "metadata": {
    "vscode": {
     "languageId": "plaintext"
    }
   },
   "outputs": [],
   "source": [
    "jib=[\"job\",\"marital\",\"education\",\"default\",\"housing\",\"loan\",\"contact\",\"month\",\"poutcome\",\"y\"]\n"
   ]
  },
  {
   "cell_type": "code",
   "execution_count": null,
   "id": "c1e7d392",
   "metadata": {
    "vscode": {
     "languageId": "plaintext"
    }
   },
   "outputs": [],
   "source": [
    "sn.displot(df['balance'])"
   ]
  },
  {
   "cell_type": "code",
   "execution_count": null,
   "id": "c1eee065",
   "metadata": {
    "vscode": {
     "languageId": "plaintext"
    }
   },
   "outputs": [],
   "source": [
    "import seaborn as sn\n",
    "sn.displot(df['duration'])"
   ]
  },
  {
   "cell_type": "code",
   "execution_count": null,
   "id": "338bb183",
   "metadata": {
    "vscode": {
     "languageId": "plaintext"
    }
   },
   "outputs": [],
   "source": [
    "from sklearn.preprocessing import PowerTransformer\n",
    "import pandas as pd\n",
    "import joblib\n",
    "\n",
    "transformer = PowerTransformer(method='yeo-johnson', standardize=True)\n",
    "scalers = {}\n",
    "\n",
    "for col in [\"age\", \"balance\", \"duration\"]:\n",
    "    reshaped = df[[col]]  # Make it 2D\n",
    "    df[col] = transformer.fit_transform(reshaped).ravel()\n",
    "    scalers[col] = transformer\n",
    "    "
   ]
  },
  {
   "cell_type": "code",
   "execution_count": null,
   "id": "c39274c8",
   "metadata": {
    "vscode": {
     "languageId": "plaintext"
    }
   },
   "outputs": [],
   "source": [
    "import seaborn as sn\n",
    "sn.displot(df['age'])"
   ]
  },
  {
   "cell_type": "code",
   "execution_count": null,
   "id": "7f84ff54",
   "metadata": {
    "vscode": {
     "languageId": "plaintext"
    }
   },
   "outputs": [],
   "source": [
    "import seaborn as sn\n",
    "sn.displot(df['balance'])"
   ]
  },
  {
   "cell_type": "code",
   "execution_count": null,
   "id": "eeb58d6e",
   "metadata": {
    "vscode": {
     "languageId": "plaintext"
    }
   },
   "outputs": [],
   "source": [
    "import seaborn as sn\n",
    "sn.displot(df['duration'])"
   ]
  },
  {
   "cell_type": "code",
   "execution_count": null,
   "id": "3ebfead9",
   "metadata": {
    "vscode": {
     "languageId": "plaintext"
    }
   },
   "outputs": [],
   "source": [
    "x.sample(30).to_csv(r\"C:/Users/dell/Desktop/macine_operation/Tele_MLOPs/Data_kind_stack/exmpl_input/Example_input.csv\")"
   ]
  },
  {
   "cell_type": "code",
   "execution_count": null,
   "id": "33eb040b",
   "metadata": {
    "vscode": {
     "languageId": "plaintext"
    }
   },
   "outputs": [],
   "source": []
  },
  {
   "cell_type": "code",
   "execution_count": null,
   "id": "988efbb9",
   "metadata": {
    "vscode": {
     "languageId": "plaintext"
    }
   },
   "outputs": [],
   "source": []
  }
 ],
 "metadata": {
  "language_info": {
   "name": "python"
  }
 },
 "nbformat": 4,
 "nbformat_minor": 5
}
